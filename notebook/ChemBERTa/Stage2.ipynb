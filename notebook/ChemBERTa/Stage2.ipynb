{
  "cells": [
    {
      "cell_type": "markdown",
      "metadata": {
        "id": "AgthUoOtcQUK"
      },
      "source": [
        "## 1. Imports and Constants"
      ]
    },
    {
      "cell_type": "code",
      "execution_count": 1,
      "metadata": {
        "colab": {
          "base_uri": "https://localhost:8080/"
        },
        "id": "o8jdM5lgv8Fr",
        "outputId": "77b1b990-5235-4d03-ccbe-214bc365e21a"
      },
      "outputs": [
        {
          "output_type": "stream",
          "name": "stdout",
          "text": [
            "Mounted at /content/drive\n"
          ]
        }
      ],
      "source": [
        "from google.colab import drive\n",
        "drive.mount('/content/drive')"
      ]
    },
    {
      "cell_type": "code",
      "execution_count": 14,
      "metadata": {
        "id": "9qLqLg3v4FNF"
      },
      "outputs": [],
      "source": [
        "import pandas as pd\n",
        "import numpy as np\n",
        "import matplotlib.pyplot as plt\n",
        "import seaborn as sns\n",
        "from tqdm import tqdm\n",
        "import torch\n",
        "import torch.nn as nn\n",
        "from torch.optim import Adam\n",
        "import torch.nn.functional as F\n",
        "from torch.utils.data import TensorDataset, DataLoader\n",
        "from transformers import AutoTokenizer, AutoModel\n",
        "from sklearn.metrics import accuracy_score, precision_score, recall_score, f1_score, roc_auc_score, confusion_matrix\n",
        "from imblearn.over_sampling import RandomOverSampler\n",
        "\n",
        "TRAIN_FILE_PATH = '/content/drive/My Drive/IND_ability_train.csv'\n",
        "TEST_FILE_PATH = '/content/drive/MyDrive/IND_ability_test.csv'\n",
        "CHEMBERTA_MODEL_NAME = \"DeepChem/ChemBERTa-77M-MLM\"\n",
        "BATCH_SIZE = 32\n",
        "NUM_EPOCHS = 10\n",
        "LEARNING_RATE = 0.001\n",
        "RANDOM_STATE = 42\n",
        "\n",
        "device = torch.device('cuda' if torch.cuda.is_available() else 'cpu')"
      ]
    },
    {
      "cell_type": "markdown",
      "metadata": {
        "id": "Jfi5IIEstHK6"
      },
      "source": [
        "## 2. Data Loading"
      ]
    },
    {
      "cell_type": "code",
      "execution_count": 15,
      "metadata": {
        "id": "3Trsyji6tHK6"
      },
      "outputs": [],
      "source": [
        "df_train = pd.read_csv(TRAIN_FILE_PATH, usecols=['smiles', 'label'])\n",
        "smiles_train = df_train['smiles'].tolist()\n",
        "labels_train = df_train['label'].tolist()\n",
        "df_test = pd.read_csv(TEST_FILE_PATH, usecols=['smiles', 'label'])\n",
        "smiles_test = df_test['smiles'].tolist()\n",
        "labels_test = df_test['label'].tolist()"
      ]
    },
    {
      "cell_type": "markdown",
      "metadata": {
        "id": "1NGpGqVltHK7"
      },
      "source": [
        "## 3. ChemBERTa Model Setup"
      ]
    },
    {
      "cell_type": "code",
      "execution_count": 16,
      "metadata": {
        "id": "pGkHIbRRtHK7",
        "colab": {
          "base_uri": "https://localhost:8080/"
        },
        "outputId": "5f0018b5-cf6c-46dd-b62e-71999f6857a4"
      },
      "outputs": [
        {
          "output_type": "stream",
          "name": "stderr",
          "text": [
            "Some weights of RobertaModel were not initialized from the model checkpoint at DeepChem/ChemBERTa-77M-MLM and are newly initialized: ['roberta.pooler.dense.bias', 'roberta.pooler.dense.weight']\n",
            "You should probably TRAIN this model on a down-stream task to be able to use it for predictions and inference.\n"
          ]
        }
      ],
      "source": [
        "tokenizer = AutoTokenizer.from_pretrained(CHEMBERTA_MODEL_NAME)\n",
        "chemberta_model = AutoModel.from_pretrained(CHEMBERTA_MODEL_NAME).to(device).eval()"
      ]
    },
    {
      "cell_type": "markdown",
      "metadata": {
        "id": "-JJrvx7OtHK7"
      },
      "source": [
        "## 4. Data Preparation"
      ]
    },
    {
      "cell_type": "code",
      "execution_count": 17,
      "metadata": {
        "id": "pLOrozLYtHK7"
      },
      "outputs": [],
      "source": [
        "# Tokenize and encode training data\n",
        "encoded_train = tokenizer(smiles_train, padding=True, truncation=True, return_tensors=\"pt\", max_length=512)\n",
        "input_ids_train = encoded_train['input_ids'].to(device)\n",
        "attention_mask_train = encoded_train['attention_mask'].to(device)\n",
        "train_dataset = TensorDataset(input_ids_train, attention_mask_train)\n",
        "train_loader = DataLoader(train_dataset, batch_size=BATCH_SIZE, shuffle=False)"
      ]
    },
    {
      "cell_type": "markdown",
      "metadata": {
        "id": "TuUGmpl6tHK7"
      },
      "source": [
        "## 5. Embeddings Generation"
      ]
    },
    {
      "cell_type": "code",
      "execution_count": 18,
      "metadata": {
        "id": "egp0K9QDtHK7",
        "colab": {
          "base_uri": "https://localhost:8080/"
        },
        "outputId": "4ccb4fef-4965-4c50-99a5-147e32161c3f"
      },
      "outputs": [
        {
          "output_type": "stream",
          "name": "stderr",
          "text": [
            "Generating Embeddings: 100%|██████████| 769/769 [00:20<00:00, 37.28it/s]\n"
          ]
        }
      ],
      "source": [
        "# Generate embeddings for training data\n",
        "train_embeddings = []\n",
        "for input_ids, attention_mask in tqdm(train_loader, desc=\"Generating Embeddings\"):\n",
        "    with torch.no_grad():\n",
        "        outputs = chemberta_model(input_ids=input_ids, attention_mask=attention_mask)\n",
        "        embedding = outputs.last_hidden_state.mean(dim=1)\n",
        "        train_embeddings.append(embedding)\n",
        "train_embeddings = torch.cat(train_embeddings, dim=0).to(device)"
      ]
    },
    {
      "cell_type": "markdown",
      "metadata": {
        "id": "hpcpAbZftHK7"
      },
      "source": [
        "## 6. MLP Model Definition"
      ]
    },
    {
      "cell_type": "code",
      "execution_count": 19,
      "metadata": {
        "id": "6_r2VjlotHK7"
      },
      "outputs": [],
      "source": [
        "class MLPClassifier(nn.Module):\n",
        "    def __init__(self, input_dim):\n",
        "        super(MLPClassifier, self).__init__()\n",
        "        self.layers = nn.Sequential(\n",
        "            nn.Linear(input_dim, 1024), nn.ReLU(), nn.Dropout(0.2),\n",
        "            nn.Linear(1024, 512), nn.ReLU(), nn.Dropout(0.2),\n",
        "            nn.Linear(512, 256), nn.ReLU(), nn.Dropout(0.2),\n",
        "            nn.Linear(256, 128), nn.ReLU(), nn.Dropout(0.2),\n",
        "            nn.Linear(128, 64), nn.ReLU(), nn.Dropout(0.2),\n",
        "            nn.Linear(64, 32), nn.ReLU(), nn.Dropout(0.2),\n",
        "            nn.Linear(32, 8), nn.ReLU(), nn.Dropout(0.2),\n",
        "            nn.Linear(8, 1), nn.Sigmoid()\n",
        "        )\n",
        "    def forward(self, x):\n",
        "        return self.layers(x)"
      ]
    },
    {
      "cell_type": "markdown",
      "metadata": {
        "id": "w5Ooh2SAtHK8"
      },
      "source": [
        "## 7. MLP Model Training"
      ]
    },
    {
      "cell_type": "code",
      "execution_count": 20,
      "metadata": {
        "id": "W-xJ1jiutHK8",
        "colab": {
          "base_uri": "https://localhost:8080/"
        },
        "outputId": "f182de73-ed0e-4f94-b5e8-5ce4c1c83362"
      },
      "outputs": [
        {
          "output_type": "stream",
          "name": "stdout",
          "text": [
            "Epoch 1, Loss: 0.4348640441894531\n",
            "Epoch 2, Loss: 0.6723212599754333\n",
            "Epoch 3, Loss: 0.6074076294898987\n",
            "Epoch 4, Loss: 0.4649793207645416\n",
            "Epoch 5, Loss: 0.4530883729457855\n",
            "Epoch 6, Loss: 0.42745545506477356\n",
            "Epoch 7, Loss: 0.47458621859550476\n",
            "Epoch 8, Loss: 0.5528905391693115\n",
            "Epoch 9, Loss: 0.3837963044643402\n",
            "Epoch 10, Loss: 0.4716583490371704\n"
          ]
        }
      ],
      "source": [
        "model = MLPClassifier(train_embeddings.shape[1]).to(device)\n",
        "optimizer = Adam(model.parameters(), lr=LEARNING_RATE)\n",
        "criterion = nn.BCELoss()\n",
        "features_train = train_embeddings\n",
        "labels_train_tensor = torch.tensor(labels_train, dtype=torch.float32).to(device)\n",
        "train_dataset = TensorDataset(features_train, labels_train_tensor)\n",
        "train_loader = DataLoader(train_dataset, batch_size=BATCH_SIZE, shuffle=True)\n",
        "\n",
        "model.train()\n",
        "for epoch in range(NUM_EPOCHS):\n",
        "    for features, targets in train_loader:\n",
        "        optimizer.zero_grad()\n",
        "        outputs = model(features).squeeze()\n",
        "        loss = criterion(outputs, targets)\n",
        "        loss.backward()\n",
        "        optimizer.step()\n",
        "    print(f'Epoch {epoch+1}, Loss: {loss.item()}')"
      ]
    },
    {
      "cell_type": "markdown",
      "metadata": {
        "id": "AwroeZSOtHK8"
      },
      "source": [
        "## 8. Data Resampling"
      ]
    },
    {
      "cell_type": "code",
      "execution_count": 21,
      "metadata": {
        "id": "4DML1QhJtHK8"
      },
      "outputs": [],
      "source": [
        "ros = RandomOverSampler(random_state=RANDOM_STATE)\n",
        "X_res, y_res = ros.fit_resample(train_embeddings.cpu().numpy(), labels_train)\n",
        "features_resampled = torch.tensor(X_res, dtype=torch.float32).to(device)\n",
        "labels_resampled = torch.tensor(y_res, dtype=torch.float32).to(device)\n",
        "\n",
        "resampled_dataset = TensorDataset(features_resampled, labels_resampled)\n",
        "resampled_loader = DataLoader(resampled_dataset, batch_size=BATCH_SIZE, shuffle=True)"
      ]
    },
    {
      "cell_type": "markdown",
      "metadata": {
        "id": "ENmED5PBtHK8"
      },
      "source": [
        "## 9. MLP Model Training on Resampled Data"
      ]
    },
    {
      "cell_type": "code",
      "execution_count": 22,
      "metadata": {
        "id": "Sw52kwDNtHK8",
        "colab": {
          "base_uri": "https://localhost:8080/"
        },
        "outputId": "cb14c39e-b489-4730-c99d-d0d146b59734"
      },
      "outputs": [
        {
          "output_type": "stream",
          "name": "stdout",
          "text": [
            "Resampled Epoch 1, Loss: 0.5803017616271973\n",
            "Resampled Epoch 2, Loss: 0.5806432366371155\n",
            "Resampled Epoch 3, Loss: 0.49105116724967957\n",
            "Resampled Epoch 4, Loss: 0.38846859335899353\n",
            "Resampled Epoch 5, Loss: 0.31666556000709534\n",
            "Resampled Epoch 6, Loss: 0.4239407479763031\n",
            "Resampled Epoch 7, Loss: 0.22766421735286713\n",
            "Resampled Epoch 8, Loss: 0.2381811887025833\n",
            "Resampled Epoch 9, Loss: 0.3772638738155365\n",
            "Resampled Epoch 10, Loss: 0.37585943937301636\n"
          ]
        }
      ],
      "source": [
        "model_resampled = MLPClassifier(train_embeddings.shape[1]).to(device)\n",
        "optimizer_resampled = Adam(model_resampled.parameters(), lr=LEARNING_RATE)\n",
        "\n",
        "model_resampled.train()\n",
        "for epoch in range(NUM_EPOCHS):\n",
        "    for features, targets in resampled_loader:\n",
        "        optimizer_resampled.zero_grad()\n",
        "        outputs = model_resampled(features).squeeze()\n",
        "        loss = criterion(outputs, targets)\n",
        "        loss.backward()\n",
        "        optimizer_resampled.step()\n",
        "    print(f'Resampled Epoch {epoch+1}, Loss: {loss.item()}')"
      ]
    },
    {
      "cell_type": "markdown",
      "metadata": {
        "id": "UTyVHBS7tHK8"
      },
      "source": [
        "## 10. Evaluation"
      ]
    },
    {
      "cell_type": "code",
      "execution_count": 23,
      "metadata": {
        "id": "qcvz_nxNtHK8"
      },
      "outputs": [],
      "source": [
        "# Prepare test data embeddings\n",
        "encoded_test = tokenizer(smiles_test, padding=True, truncation=True, return_tensors=\"pt\", max_length=512)\n",
        "input_ids_test = encoded_test['input_ids'].to(device)\n",
        "attention_mask_test = encoded_test['attention_mask'].to(device)\n",
        "\n",
        "test_loader = DataLoader(TensorDataset(input_ids_test, attention_mask_test), batch_size=BATCH_SIZE, shuffle=False)\n",
        "test_embeddings = []\n",
        "chemberta_model.eval()\n",
        "with torch.no_grad():\n",
        "    for input_ids, attention_mask in test_loader:\n",
        "        outputs = chemberta_model(input_ids=input_ids, attention_mask=attention_mask)\n",
        "        embedding = outputs.last_hidden_state.mean(dim=1)\n",
        "        test_embeddings.append(embedding)\n",
        "test_embeddings = torch.cat(test_embeddings, dim=0).to(device)\n",
        "\n",
        "features_test = test_embeddings\n",
        "prediction_loader_test = DataLoader(features_test, batch_size=BATCH_SIZE, shuffle=False)"
      ]
    },
    {
      "cell_type": "code",
      "execution_count": 24,
      "metadata": {
        "id": "fepZ6kwWtHK9"
      },
      "outputs": [],
      "source": [
        "# Functions to evaluate the model\n",
        "def plot_confusion_matrix(true_labels, predicted_labels, title='Confusion Matrix'):\n",
        "    cm = confusion_matrix(true_labels, predicted_labels)\n",
        "    plt.figure(figsize=(3, 2))\n",
        "    sns.heatmap(cm, annot=True, fmt='d', cmap='Blues', cbar=False)\n",
        "    plt.xlabel('Predicted Label')\n",
        "    plt.ylabel('True Label')\n",
        "    plt.title(title)\n",
        "    plt.show()\n",
        "\n",
        "def evaluate_model(model, loader, labels_test):\n",
        "    model.eval()\n",
        "    predictions = []\n",
        "    with torch.no_grad():\n",
        "        for features in loader:\n",
        "            outputs = model(features).squeeze()\n",
        "            predicted_labels = (outputs >= 0.5).long()\n",
        "            predictions.extend(predicted_labels.cpu().numpy())\n",
        "\n",
        "    accuracy = accuracy_score(labels_test, predictions)\n",
        "    precision = precision_score(labels_test, predictions)\n",
        "    recall = recall_score(labels_test, predictions)\n",
        "    f1 = f1_score(labels_test, predictions)\n",
        "    roc_auc = roc_auc_score(labels_test, [x.item() for x in predictions])\n",
        "\n",
        "    print(f\"Accuracy: {accuracy}\")\n",
        "    print(f\"Precision: {precision}\")\n",
        "    print(f\"Recall: {recall}\")\n",
        "    print(f\"F1 Score: {f1}\")\n",
        "    print(f\"ROC AUC: {roc_auc}\")\n",
        "    plot_confusion_matrix(labels_test, predictions, title='Confusion Matrix for MLPClassifier')"
      ]
    },
    {
      "cell_type": "code",
      "execution_count": 25,
      "metadata": {
        "id": "4eVi8jEOtHK9",
        "colab": {
          "base_uri": "https://localhost:8080/",
          "height": 727
        },
        "outputId": "51bc9020-fbdd-4593-e21c-4971dd2eef6e"
      },
      "outputs": [
        {
          "output_type": "stream",
          "name": "stdout",
          "text": [
            "Evaluating Original Model:\n",
            "Accuracy: 0.8078330893118595\n",
            "Precision: 0.7789613848202397\n",
            "Recall: 0.6197033898305084\n",
            "F1 Score: 0.6902654867256637\n",
            "ROC AUC: 0.7634311132597732\n"
          ]
        },
        {
          "output_type": "display_data",
          "data": {
            "text/plain": [
              "<Figure size 300x200 with 1 Axes>"
            ],
            "image/png": "[encoded data removed]"
          },
          "metadata": {}
        },
        {
          "output_type": "stream",
          "name": "stdout",
          "text": [
            "========================================================================\n",
            "Evaluating Resampled Model:\n",
            "Accuracy: 0.7895314787701317\n",
            "Precision: 0.6586414445399829\n",
            "Recall: 0.8114406779661016\n",
            "F1 Score: 0.7271001423825344\n",
            "ROC AUC: 0.7947024418913282\n"
          ]
        },
        {
          "output_type": "display_data",
          "data": {
            "text/plain": [
              "<Figure size 300x200 with 1 Axes>"
            ],
            "image/png": "[encoded data removed]"
          },
          "metadata": {}
        }
      ],
      "source": [
        "# Evaluate models\n",
        "print(\"Evaluating Original Model:\")\n",
        "evaluate_model(model, prediction_loader_test, labels_test)\n",
        "print(\"========================================================================\")\n",
        "print(\"Evaluating Resampled Model:\")\n",
        "evaluate_model(model_resampled, prediction_loader_test, labels_test)"
      ]
    }
  ],
  "metadata": {
    "colab": {
      "provenance": [],
      "gpuType": "T4"
    },
    "kernelspec": {
      "display_name": "Python 3",
      "name": "python3"
    },
    "language_info": {
      "codemirror_mode": {
        "name": "ipython",
        "version": 3
      },
      "file_extension": ".py",
      "mimetype": "text/x-python",
      "name": "python",
      "nbconvert_exporter": "python",
      "pygments_lexer": "ipython3",
      "version": "3.11.7"
    },
    "accelerator": "GPU"
  },
  "nbformat": 4,
  "nbformat_minor": 0
}